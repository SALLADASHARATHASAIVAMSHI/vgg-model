{
 "cells": [
  {
   "cell_type": "code",
   "execution_count": 1,
   "metadata": {},
   "outputs": [],
   "source": [
    "import os\n",
    "import tensorflow as tf\n",
    "import numpy as np\n",
    "import pandas as pd\n",
    "import matplotlib.pyplot as plt\n",
    "import cv2\n",
    "import pickle\n",
    "from sklearn.model_selection import train_test_split"
   ]
  },
  {
   "cell_type": "code",
   "execution_count": 2,
   "metadata": {},
   "outputs": [],
   "source": [
    "def vgg_net(Images=None,reuse=False,sess=None):\n",
    "    #Discriminator\n",
    "    Parameters=[]\n",
    "    with tf.variable_scope(tf.contrib.framework.get_name_scope(), reuse=reuse):\n",
    "        #Placeholder\n",
    "        if Images==None:\n",
    "            Images=tf.placeholder(tf.float32,shape=(None,224,224,3),name='Dinput')\n",
    "        vggmean=tf.constant([123.68,116.779,103.939], dtype=tf.float32, shape=[1,1,1,3])\n",
    "        Images=(Images-vggmean)\n",
    "        #Conv1\n",
    "        W1=tf.get_variable(\"DW1\",[3,3,3,64],initializer=tf.contrib.layers.xavier_initializer(),dtype=tf.float32,trainable=False)\n",
    "        b1=tf.get_variable(\"Db1\",[64],initializer=tf.constant_initializer(0.0),dtype=tf.float32,trainable=False)\n",
    "        conv1=tf.nn.conv2d(Images,W1,[1,1,1,1],padding='SAME',name='Dconv1')\n",
    "        z1=tf.nn.bias_add(conv1,b1,name='Dz1')\n",
    "        a1=tf.nn.relu(z1,name='Da1')\n",
    "        Parameters+=[W1,b1]\n",
    "        #Conv2\n",
    "        W2=tf.get_variable(\"DW2\",[3,3,64,64],initializer=tf.contrib.layers.xavier_initializer(),dtype=tf.float32,trainable=False)\n",
    "        b2=tf.get_variable(\"Db2\",[64],initializer=tf.constant_initializer(0.0),dtype=tf.float32,trainable=False)\n",
    "        conv2=tf.nn.conv2d(a1,W2,[1,1,1,1],padding='SAME',name='Dconv2')\n",
    "        z2=tf.nn.bias_add(conv2,b2,name='Dz2')\n",
    "        a2=tf.nn.relu(z2,name='Da2')\n",
    "        Parameters+=[W2,b2]\n",
    "        #Pool1\n",
    "        pool1=tf.nn.max_pool(a2,ksize=[1,2,2,1],strides=[1,2,2,1],padding='SAME',name='Dpool1')\n",
    "        #Conv3\n",
    "        W3=tf.get_variable(\"DW3\",[3,3,64,128],initializer=tf.contrib.layers.xavier_initializer(),dtype=tf.float32,trainable=False)\n",
    "        b3=tf.get_variable(\"Db3\",[128],initializer=tf.constant_initializer(0.0),dtype=tf.float32,trainable=False)\n",
    "        conv3=tf.nn.conv2d(pool1,W3,[1,1,1,1],padding='SAME',name='Dconv3')\n",
    "        z3=tf.nn.bias_add(conv3,b3,name='Dz3')\n",
    "        a3=tf.nn.relu(z3,name='Da3')\n",
    "        Parameters+=[W3,b3]\n",
    "        #Conv4\n",
    "        W4=tf.get_variable(\"DW4\",[3,3,128,128],initializer=tf.contrib.layers.xavier_initializer(),dtype=tf.float32,trainable=False)\n",
    "        b4=tf.get_variable(\"Db4\",[128],initializer=tf.constant_initializer(0.0),dtype=tf.float32,trainable=False)\n",
    "        conv4=tf.nn.conv2d(a3,W4,[1,1,1,1],padding='SAME',name='Dconv4')\n",
    "        z4=tf.nn.bias_add(conv4,b4,name='Dz4')\n",
    "        a4=tf.nn.relu(z4,name='Da4')\n",
    "        Parameters+=[W4,b4]\n",
    "        #Pool2\n",
    "        pool2=tf.nn.max_pool(a4,ksize=[1,2,2,1],strides=[1,2,2,1],padding='SAME',name='Dpool2')\n",
    "        #Conv5\n",
    "        W5=tf.get_variable(\"DW5\",[3,3,128,256],initializer=tf.contrib.layers.xavier_initializer(),dtype=tf.float32,trainable=False)\n",
    "        b5=tf.get_variable(\"Db5\",[256],initializer=tf.constant_initializer(0.0),dtype=tf.float32,trainable=False)\n",
    "        conv5=tf.nn.conv2d(pool2,W5,[1,1,1,1],padding='SAME',name='Dconv5')\n",
    "        z5=tf.nn.bias_add(conv5,b5,name='Dz5')\n",
    "        a5=tf.nn.relu(z5,name='Da5')\n",
    "        Parameters+=[W5,b5]\n",
    "        #Conv6\n",
    "        W6=tf.get_variable(\"DW6\",[3,3,256,256],initializer=tf.contrib.layers.xavier_initializer(),dtype=tf.float32,trainable=False)\n",
    "        b6=tf.get_variable(\"Db6\",[256],initializer=tf.constant_initializer(0.0),dtype=tf.float32,trainable=False)\n",
    "        conv6=tf.nn.conv2d(a5,W6,[1,1,1,1],padding='SAME',name='Dconv6')\n",
    "        z6=tf.nn.bias_add(conv6,b6,name='Dz6')\n",
    "        a6=tf.nn.relu(z6,name='Da6')\n",
    "        Parameters+=[W6,b6]\n",
    "        #Conv7\n",
    "        W7=tf.get_variable(\"DW7\",[3,3,256,256],initializer=tf.contrib.layers.xavier_initializer(),dtype=tf.float32,trainable=False)\n",
    "        b7=tf.get_variable(\"Db7\",[256],initializer=tf.constant_initializer(0.0),dtype=tf.float32,trainable=False)\n",
    "        conv7=tf.nn.conv2d(a6,W7,[1,1,1,1],padding='SAME',name='Dconv7')\n",
    "        z7=tf.nn.bias_add(conv7,b7,name='Dz7')\n",
    "        a7=tf.nn.relu(z7,name='Da7')\n",
    "        Parameters+=[W7,b7]\n",
    "        #Pool3\n",
    "        pool3=tf.nn.max_pool(a7,ksize=[1,2,2,1],strides=[1,2,2,1],padding=\"SAME\",name='Dpool3')\n",
    "        #Conv8\n",
    "        W8=tf.get_variable(\"DW8\",[3,3,256,512],initializer=tf.contrib.layers.xavier_initializer(),dtype=tf.float32,trainable=False)\n",
    "        b8=tf.get_variable(\"Db8\",[512],initializer=tf.constant_initializer(0.0),dtype=tf.float32,trainable=False)\n",
    "        conv8=tf.nn.conv2d(pool3,W8,[1,1,1,1],padding='SAME',name='Dconv8')\n",
    "        z8=tf.nn.bias_add(conv8,b8,name='Dz8')\n",
    "        a8=tf.nn.relu(z8,name='Da8')\n",
    "        Parameters+=[W8,b8]\n",
    "        #Conv9\n",
    "        W9=tf.get_variable(\"DW9\",[3,3,512,512],initializer=tf.contrib.layers.xavier_initializer(),dtype=tf.float32,trainable=False)\n",
    "        b9=tf.get_variable(\"Db9\",[512],initializer=tf.constant_initializer(0.0),dtype=tf.float32,trainable=False)\n",
    "        conv9=tf.nn.conv2d(a8,W9,[1,1,1,1],padding='SAME',name='Dconv9')\n",
    "        z9=tf.nn.bias_add(conv9,b9,name='Dz9')\n",
    "        a9=tf.nn.relu(z9,name='Da9')\n",
    "        Parameters+=[W9,b9]\n",
    "        #Conv10\n",
    "        W10=tf.get_variable(\"DW10\",[3,3,512,512],initializer=tf.contrib.layers.xavier_initializer(),dtype=tf.float32,trainable=False)\n",
    "        b10=tf.get_variable(\"Db10\",[512],initializer=tf.constant_initializer(0.0),dtype=tf.float32,trainable=False)\n",
    "        conv10=tf.nn.conv2d(a9,W10,[1,1,1,1],padding='SAME',name='Dconv10')\n",
    "        z10=tf.nn.bias_add(conv10,b10,name='Dz10')\n",
    "        a10=tf.nn.relu(z10,name='Da10')\n",
    "        Parameters+=[W10,b10]\n",
    "        #Pool4\n",
    "        pool4=tf.nn.max_pool(a10,ksize=[1,2,2,1],strides=[1,2,2,1],padding='SAME',name='Dpool4')\n",
    "        #Conv11\n",
    "        W11=tf.get_variable(\"DW11\",[3,3,512,512],initializer=tf.contrib.layers.xavier_initializer(),dtype=tf.float32,trainable=False)\n",
    "        b11=tf.get_variable(\"Db11\",[512],initializer=tf.constant_initializer(0.0),dtype=tf.float32,trainable=False)\n",
    "        conv11=tf.nn.conv2d(pool4,W11,[1,1,1,1],padding='SAME',name='Dconv11')\n",
    "        z11=tf.nn.bias_add(conv11,b11,name='Dz11')\n",
    "        a11=tf.nn.relu(z11,name='Da11')\n",
    "        Parameters+=[W11,b11]\n",
    "        #Conv12\n",
    "        W12=tf.get_variable(\"DW12\",[3,3,512,512],initializer=tf.contrib.layers.xavier_initializer(),dtype=tf.float32,trainable=False)\n",
    "        b12=tf.get_variable(\"Db12\",[512],initializer=tf.constant_initializer(0.0),dtype=tf.float32,trainable=False)\n",
    "        conv12=tf.nn.conv2d(a11,W12,[1,1,1,1],padding='SAME',name='Dconv12')\n",
    "        z12=tf.nn.bias_add(conv12,b12,name='Dz12')\n",
    "        a12=tf.nn.relu(z12,name='Da12')\n",
    "        Parameters+=[W12,b12]\n",
    "        #Conv13\n",
    "        W13=tf.get_variable(\"DW13\",[3,3,512,512],initializer=tf.contrib.layers.xavier_initializer(),dtype=tf.float32,trainable=False)\n",
    "        b13=tf.get_variable(\"Db13\",[512],initializer=tf.constant_initializer(0.0),dtype=tf.float32,trainable=False)\n",
    "        conv13=tf.nn.conv2d(a12,W13,[1,1,1,1],padding='SAME',name='Dconv13')\n",
    "        z13=tf.nn.bias_add(conv13,b13,name='Dz13')\n",
    "        a13=tf.nn.relu(z13,name='Da13')\n",
    "        Parameters+=[W13,b13]\n",
    "        #Pool5\n",
    "        pool5=tf.nn.max_pool(a13,ksize=[1,2,2,1],strides=[1,2,2,1],padding='SAME',name='Dpool5')\n",
    "        \n",
    "        #fc1\n",
    "        shape = int(np.prod(pool5.get_shape()[1:]))\n",
    "        print(shape)\n",
    "        fc1w = tf.Variable(tf.truncated_normal([shape, 4096],\n",
    "                                                         dtype=tf.float32,\n",
    "                                                         stddev=1e-1), name='weights',trainable=True)\n",
    "        fc1b = tf.Variable(tf.constant(1.0, shape=[4096], dtype=tf.float32),\n",
    "                                   name='biases',trainable=True)\n",
    "        pool5a_flat = tf.reshape(pool5, [-1, shape])\n",
    "        za = tf.nn.bias_add(tf.matmul(pool5a_flat, fc1w), fc1b)\n",
    "        aa = tf.nn.relu(za,name='Fc1_a')\n",
    "        Parameters += [fc1w, fc1b]\n",
    "        \n",
    "        #fc2\n",
    "        shape = int(np.prod(aa.get_shape()[1:]))\n",
    "        fc2w = tf.Variable(tf.truncated_normal([shape, 1000],\n",
    "                                                         dtype=tf.float32,\n",
    "                                                         stddev=1e-1), name='weights',trainable=True)\n",
    "        fc2b = tf.Variable(tf.constant(1.0, shape=[1000], dtype=tf.float32),\n",
    "                                   name='biases',trainable=True)\n",
    "        pool5b_flat = tf.reshape(aa, [-1, shape])\n",
    "        zb = tf.nn.bias_add(tf.matmul(pool5b_flat, fc2w), fc2b)\n",
    "        ab = tf.nn.relu(zb,name='Fc2_b')\n",
    "        Parameters += [fc2w, fc2b]\n",
    "        \n",
    "        #fc3\n",
    "        shape = int(np.prod(ab.get_shape()[1:]))\n",
    "        fc3w = tf.Variable(tf.truncated_normal([shape, 128],\n",
    "                                                         dtype=tf.float32,\n",
    "                                                         stddev=1e-1), name='weights',trainable=True)\n",
    "        fc3b = tf.Variable(tf.constant(1.0, shape=[128], dtype=tf.float32),\n",
    "                                   name='biases',trainable=True)\n",
    "        pool5c_flat = tf.reshape(ab, [-1, shape])\n",
    "        zc = tf.nn.bias_add(tf.matmul(pool5c_flat, fc3w), fc3b)\n",
    "        ac = tf.nn.relu(zc,name='Fc3_c')\n",
    "        Parameters += [fc3w, fc3b]\n",
    "        \n",
    "        \n",
    "        return ac"
   ]
  },
  {
   "cell_type": "code",
   "execution_count": 3,
   "metadata": {},
   "outputs": [],
   "source": [
    "#Placeholder - Anchors\n",
    "sess = tf.Session()\n",
    "AnchorImages=tf.placeholder(tf.float32,shape=(None,224,224,3),name='Anchorinput')\n",
    "#Images = pickle.load( open( \"v1TrainBatch1.pkl\", \"rb\" ) )\n",
    "#Placeholder - Positives\n",
    "PositiveImages=tf.placeholder(tf.float32,shape=(None,224,224,3),name='Positiveinput')\n",
    "\n",
    "#Placeholder - Negatives\n",
    "NegativeImages=tf.placeholder(tf.float32,shape=(None,224,224,3),name='Negativeinput')"
   ]
  },
  {
   "cell_type": "code",
   "execution_count": 4,
   "metadata": {
    "scrolled": true
   },
   "outputs": [
    {
     "name": "stdout",
     "output_type": "stream",
     "text": [
      "25088\n",
      "25088\n",
      "25088\n"
     ]
    }
   ],
   "source": [
    "Anchor = vgg_net(Images=AnchorImages,sess=sess)\n",
    "Positive = vgg_net(Images=PositiveImages, reuse=True)\n",
    "Negative = vgg_net(Images=NegativeImages, reuse=True)"
   ]
  },
  {
   "cell_type": "code",
   "execution_count": null,
   "metadata": {},
   "outputs": [
    {
     "name": "stdout",
     "output_type": "stream",
     "text": [
      "Tensor(\"Fc3_c:0\", shape=(?, 128), dtype=float32) Tensor(\"Fc3_c_1:0\", shape=(?, 128), dtype=float32) Tensor(\"Fc3_c_2:0\", shape=(?, 128), dtype=float32)\n"
     ]
    }
   ],
   "source": [
    "print(Anchor,Positive, Negative)"
   ]
  },
  {
   "cell_type": "code",
   "execution_count": null,
   "metadata": {},
   "outputs": [],
   "source": [
    "writer = tf.summary.FileWriter(\"Graph\", sess.graph)\n",
    "writer.close()"
   ]
  },
  {
   "cell_type": "code",
   "execution_count": 5,
   "metadata": {},
   "outputs": [],
   "source": [
    "def EuclideanDistance(a,b):\n",
    "    l2_norm = tf.reduce_mean(tf.norm(a-b,axis=1, ord='euclidean'))\n",
    "    return l2_norm"
   ]
  },
  {
   "cell_type": "code",
   "execution_count": 7,
   "metadata": {},
   "outputs": [],
   "source": [
    "alpha = 0.7\n",
    "loss = tf.maximum((EuclideanDistance(Anchor,Positive) - EuclideanDistance(Anchor,Negative)+ alpha), 0, name=\"loss\")"
   ]
  },
  {
   "cell_type": "code",
   "execution_count": 8,
   "metadata": {},
   "outputs": [
    {
     "data": {
      "text/plain": [
       "<tf.Tensor 'loss:0' shape=() dtype=float32>"
      ]
     },
     "execution_count": 8,
     "metadata": {},
     "output_type": "execute_result"
    }
   ],
   "source": [
    "loss"
   ]
  },
  {
   "cell_type": "code",
   "execution_count": 9,
   "metadata": {},
   "outputs": [],
   "source": [
    "def train(optimizer, sess, loss,numberofepochs=1, batchsize=8):\n",
    "    str1='v2TrainBatch_224_224_'\n",
    "    for _ in range(numberofepochs):\n",
    "        for i in range(1,101):\n",
    "            Dict=pickle.load(open(str1+str(i)+\".pkl\",'rb'))\n",
    "            A1=Dict['Anchor']\n",
    "            P=Dict['Positives']\n",
    "            N=Dict['Negatives']\n",
    "            for j in range(0,A1.shape[0],batchsize):\n",
    "                batchA = A1[j:j+batchsize,:,:,:]\n",
    "                batchP = P[j:j+batchsize,:,:,:]\n",
    "                batchN = N[j:j+batchsize,:,:,:]\n",
    "                temp, c = sess.run([optimizer, loss], feed_dict = {AnchorImages:batchA, PositiveImages:batchP, NegativeImages:batchN})\n",
    "                print(j, c)"
   ]
  },
  {
   "cell_type": "code",
   "execution_count": 10,
   "metadata": {},
   "outputs": [],
   "source": [
    "optimizer=tf.train.AdamOptimizer(0.001).minimize(loss)"
   ]
  },
  {
   "cell_type": "code",
   "execution_count": 14,
   "metadata": {},
   "outputs": [
    {
     "ename": "ResourceExhaustedError",
     "evalue": "OOM when allocating tensor of shape [25088,4096] and type float\n\t [[Node: weights/Adam/Initializer/zeros = Const[dtype=DT_FLOAT, value=Tensor<type: float shape: [25088,4096] values: [0 0 0]...>, _device=\"/job:localhost/replica:0/task:0/device:GPU:0\"]()]]\n\nCaused by op 'weights/Adam/Initializer/zeros', defined at:\n  File \"c:\\users\\sai rathan\\appdata\\local\\programs\\python\\python36\\lib\\runpy.py\", line 193, in _run_module_as_main\n    \"__main__\", mod_spec)\n  File \"c:\\users\\sai rathan\\appdata\\local\\programs\\python\\python36\\lib\\runpy.py\", line 85, in _run_code\n    exec(code, run_globals)\n  File \"c:\\users\\sai rathan\\appdata\\local\\programs\\python\\python36\\lib\\site-packages\\ipykernel_launcher.py\", line 16, in <module>\n    app.launch_new_instance()\n  File \"c:\\users\\sai rathan\\appdata\\local\\programs\\python\\python36\\lib\\site-packages\\traitlets\\config\\application.py\", line 658, in launch_instance\n    app.start()\n  File \"c:\\users\\sai rathan\\appdata\\local\\programs\\python\\python36\\lib\\site-packages\\ipykernel\\kernelapp.py\", line 486, in start\n    self.io_loop.start()\n  File \"c:\\users\\sai rathan\\appdata\\local\\programs\\python\\python36\\lib\\site-packages\\tornado\\platform\\asyncio.py\", line 127, in start\n    self.asyncio_loop.run_forever()\n  File \"c:\\users\\sai rathan\\appdata\\local\\programs\\python\\python36\\lib\\asyncio\\base_events.py\", line 422, in run_forever\n    self._run_once()\n  File \"c:\\users\\sai rathan\\appdata\\local\\programs\\python\\python36\\lib\\asyncio\\base_events.py\", line 1432, in _run_once\n    handle._run()\n  File \"c:\\users\\sai rathan\\appdata\\local\\programs\\python\\python36\\lib\\asyncio\\events.py\", line 145, in _run\n    self._callback(*self._args)\n  File \"c:\\users\\sai rathan\\appdata\\local\\programs\\python\\python36\\lib\\site-packages\\tornado\\platform\\asyncio.py\", line 117, in _handle_events\n    handler_func(fileobj, events)\n  File \"c:\\users\\sai rathan\\appdata\\local\\programs\\python\\python36\\lib\\site-packages\\tornado\\stack_context.py\", line 276, in null_wrapper\n    return fn(*args, **kwargs)\n  File \"c:\\users\\sai rathan\\appdata\\local\\programs\\python\\python36\\lib\\site-packages\\zmq\\eventloop\\zmqstream.py\", line 450, in _handle_events\n    self._handle_recv()\n  File \"c:\\users\\sai rathan\\appdata\\local\\programs\\python\\python36\\lib\\site-packages\\zmq\\eventloop\\zmqstream.py\", line 480, in _handle_recv\n    self._run_callback(callback, msg)\n  File \"c:\\users\\sai rathan\\appdata\\local\\programs\\python\\python36\\lib\\site-packages\\zmq\\eventloop\\zmqstream.py\", line 432, in _run_callback\n    callback(*args, **kwargs)\n  File \"c:\\users\\sai rathan\\appdata\\local\\programs\\python\\python36\\lib\\site-packages\\tornado\\stack_context.py\", line 276, in null_wrapper\n    return fn(*args, **kwargs)\n  File \"c:\\users\\sai rathan\\appdata\\local\\programs\\python\\python36\\lib\\site-packages\\ipykernel\\kernelbase.py\", line 283, in dispatcher\n    return self.dispatch_shell(stream, msg)\n  File \"c:\\users\\sai rathan\\appdata\\local\\programs\\python\\python36\\lib\\site-packages\\ipykernel\\kernelbase.py\", line 233, in dispatch_shell\n    handler(stream, idents, msg)\n  File \"c:\\users\\sai rathan\\appdata\\local\\programs\\python\\python36\\lib\\site-packages\\ipykernel\\kernelbase.py\", line 399, in execute_request\n    user_expressions, allow_stdin)\n  File \"c:\\users\\sai rathan\\appdata\\local\\programs\\python\\python36\\lib\\site-packages\\ipykernel\\ipkernel.py\", line 208, in do_execute\n    res = shell.run_cell(code, store_history=store_history, silent=silent)\n  File \"c:\\users\\sai rathan\\appdata\\local\\programs\\python\\python36\\lib\\site-packages\\ipykernel\\zmqshell.py\", line 537, in run_cell\n    return super(ZMQInteractiveShell, self).run_cell(*args, **kwargs)\n  File \"c:\\users\\sai rathan\\appdata\\local\\programs\\python\\python36\\lib\\site-packages\\IPython\\core\\interactiveshell.py\", line 2662, in run_cell\n    raw_cell, store_history, silent, shell_futures)\n  File \"c:\\users\\sai rathan\\appdata\\local\\programs\\python\\python36\\lib\\site-packages\\IPython\\core\\interactiveshell.py\", line 2785, in _run_cell\n    interactivity=interactivity, compiler=compiler, result=result)\n  File \"c:\\users\\sai rathan\\appdata\\local\\programs\\python\\python36\\lib\\site-packages\\IPython\\core\\interactiveshell.py\", line 2903, in run_ast_nodes\n    if self.run_code(code, result):\n  File \"c:\\users\\sai rathan\\appdata\\local\\programs\\python\\python36\\lib\\site-packages\\IPython\\core\\interactiveshell.py\", line 2963, in run_code\n    exec(code_obj, self.user_global_ns, self.user_ns)\n  File \"<ipython-input-10-91278646951c>\", line 1, in <module>\n    optimizer=tf.train.AdamOptimizer(0.001).minimize(loss)\n  File \"c:\\users\\sai rathan\\appdata\\local\\programs\\python\\python36\\lib\\site-packages\\tensorflow\\python\\training\\optimizer.py\", line 424, in minimize\n    name=name)\n  File \"c:\\users\\sai rathan\\appdata\\local\\programs\\python\\python36\\lib\\site-packages\\tensorflow\\python\\training\\optimizer.py\", line 600, in apply_gradients\n    self._create_slots(var_list)\n  File \"c:\\users\\sai rathan\\appdata\\local\\programs\\python\\python36\\lib\\site-packages\\tensorflow\\python\\training\\adam.py\", line 131, in _create_slots\n    self._zeros_slot(v, \"m\", self._name)\n  File \"c:\\users\\sai rathan\\appdata\\local\\programs\\python\\python36\\lib\\site-packages\\tensorflow\\python\\training\\optimizer.py\", line 1150, in _zeros_slot\n    new_slot_variable = slot_creator.create_zeros_slot(var, op_name)\n  File \"c:\\users\\sai rathan\\appdata\\local\\programs\\python\\python36\\lib\\site-packages\\tensorflow\\python\\training\\slot_creator.py\", line 181, in create_zeros_slot\n    colocate_with_primary=colocate_with_primary)\n  File \"c:\\users\\sai rathan\\appdata\\local\\programs\\python\\python36\\lib\\site-packages\\tensorflow\\python\\training\\slot_creator.py\", line 155, in create_slot_with_initializer\n    dtype)\n  File \"c:\\users\\sai rathan\\appdata\\local\\programs\\python\\python36\\lib\\site-packages\\tensorflow\\python\\training\\slot_creator.py\", line 65, in _create_slot_var\n    validate_shape=validate_shape)\n  File \"c:\\users\\sai rathan\\appdata\\local\\programs\\python\\python36\\lib\\site-packages\\tensorflow\\python\\ops\\variable_scope.py\", line 1317, in get_variable\n    constraint=constraint)\n  File \"c:\\users\\sai rathan\\appdata\\local\\programs\\python\\python36\\lib\\site-packages\\tensorflow\\python\\ops\\variable_scope.py\", line 1079, in get_variable\n    constraint=constraint)\n  File \"c:\\users\\sai rathan\\appdata\\local\\programs\\python\\python36\\lib\\site-packages\\tensorflow\\python\\ops\\variable_scope.py\", line 425, in get_variable\n    constraint=constraint)\n  File \"c:\\users\\sai rathan\\appdata\\local\\programs\\python\\python36\\lib\\site-packages\\tensorflow\\python\\ops\\variable_scope.py\", line 394, in _true_getter\n    use_resource=use_resource, constraint=constraint)\n  File \"c:\\users\\sai rathan\\appdata\\local\\programs\\python\\python36\\lib\\site-packages\\tensorflow\\python\\ops\\variable_scope.py\", line 786, in _get_single_variable\n    use_resource=use_resource)\n  File \"c:\\users\\sai rathan\\appdata\\local\\programs\\python\\python36\\lib\\site-packages\\tensorflow\\python\\ops\\variable_scope.py\", line 2220, in variable\n    use_resource=use_resource)\n  File \"c:\\users\\sai rathan\\appdata\\local\\programs\\python\\python36\\lib\\site-packages\\tensorflow\\python\\ops\\variable_scope.py\", line 2210, in <lambda>\n    previous_getter = lambda **kwargs: default_variable_creator(None, **kwargs)\n  File \"c:\\users\\sai rathan\\appdata\\local\\programs\\python\\python36\\lib\\site-packages\\tensorflow\\python\\ops\\variable_scope.py\", line 2193, in default_variable_creator\n    constraint=constraint)\n  File \"c:\\users\\sai rathan\\appdata\\local\\programs\\python\\python36\\lib\\site-packages\\tensorflow\\python\\ops\\variables.py\", line 235, in __init__\n    constraint=constraint)\n  File \"c:\\users\\sai rathan\\appdata\\local\\programs\\python\\python36\\lib\\site-packages\\tensorflow\\python\\ops\\variables.py\", line 343, in _init_from_args\n    initial_value(), name=\"initial_value\", dtype=dtype)\n  File \"c:\\users\\sai rathan\\appdata\\local\\programs\\python\\python36\\lib\\site-packages\\tensorflow\\python\\ops\\variable_scope.py\", line 770, in <lambda>\n    shape.as_list(), dtype=dtype, partition_info=partition_info)\n  File \"c:\\users\\sai rathan\\appdata\\local\\programs\\python\\python36\\lib\\site-packages\\tensorflow\\python\\ops\\init_ops.py\", line 99, in __call__\n    return array_ops.zeros(shape, dtype)\n  File \"c:\\users\\sai rathan\\appdata\\local\\programs\\python\\python36\\lib\\site-packages\\tensorflow\\python\\ops\\array_ops.py\", line 1626, in zeros\n    output = fill(shape, constant(zero, dtype=dtype), name=name)\n  File \"c:\\users\\sai rathan\\appdata\\local\\programs\\python\\python36\\lib\\site-packages\\tensorflow\\python\\ops\\gen_array_ops.py\", line 3169, in fill\n    \"Fill\", dims=dims, value=value, name=name)\n  File \"c:\\users\\sai rathan\\appdata\\local\\programs\\python\\python36\\lib\\site-packages\\tensorflow\\python\\framework\\op_def_library.py\", line 787, in _apply_op_helper\n    op_def=op_def)\n  File \"c:\\users\\sai rathan\\appdata\\local\\programs\\python\\python36\\lib\\site-packages\\tensorflow\\python\\framework\\ops.py\", line 3392, in create_op\n    op_def=op_def)\n  File \"c:\\users\\sai rathan\\appdata\\local\\programs\\python\\python36\\lib\\site-packages\\tensorflow\\python\\framework\\ops.py\", line 1718, in __init__\n    self._traceback = self._graph._extract_stack()  # pylint: disable=protected-access\n\nResourceExhaustedError (see above for traceback): OOM when allocating tensor of shape [25088,4096] and type float\n\t [[Node: weights/Adam/Initializer/zeros = Const[dtype=DT_FLOAT, value=Tensor<type: float shape: [25088,4096] values: [0 0 0]...>, _device=\"/job:localhost/replica:0/task:0/device:GPU:0\"]()]]\n",
     "output_type": "error",
     "traceback": [
      "\u001b[1;31m---------------------------------------------------------------------------\u001b[0m",
      "\u001b[1;31mResourceExhaustedError\u001b[0m                    Traceback (most recent call last)",
      "\u001b[1;32mc:\\users\\sai rathan\\appdata\\local\\programs\\python\\python36\\lib\\site-packages\\tensorflow\\python\\client\\session.py\u001b[0m in \u001b[0;36m_do_call\u001b[1;34m(self, fn, *args)\u001b[0m\n\u001b[0;32m   1321\u001b[0m     \u001b[1;32mtry\u001b[0m\u001b[1;33m:\u001b[0m\u001b[1;33m\u001b[0m\u001b[0m\n\u001b[1;32m-> 1322\u001b[1;33m       \u001b[1;32mreturn\u001b[0m \u001b[0mfn\u001b[0m\u001b[1;33m(\u001b[0m\u001b[1;33m*\u001b[0m\u001b[0margs\u001b[0m\u001b[1;33m)\u001b[0m\u001b[1;33m\u001b[0m\u001b[0m\n\u001b[0m\u001b[0;32m   1323\u001b[0m     \u001b[1;32mexcept\u001b[0m \u001b[0merrors\u001b[0m\u001b[1;33m.\u001b[0m\u001b[0mOpError\u001b[0m \u001b[1;32mas\u001b[0m \u001b[0me\u001b[0m\u001b[1;33m:\u001b[0m\u001b[1;33m\u001b[0m\u001b[0m\n",
      "\u001b[1;32mc:\\users\\sai rathan\\appdata\\local\\programs\\python\\python36\\lib\\site-packages\\tensorflow\\python\\client\\session.py\u001b[0m in \u001b[0;36m_run_fn\u001b[1;34m(feed_dict, fetch_list, target_list, options, run_metadata)\u001b[0m\n\u001b[0;32m   1306\u001b[0m       return self._call_tf_sessionrun(\n\u001b[1;32m-> 1307\u001b[1;33m           options, feed_dict, fetch_list, target_list, run_metadata)\n\u001b[0m\u001b[0;32m   1308\u001b[0m \u001b[1;33m\u001b[0m\u001b[0m\n",
      "\u001b[1;32mc:\\users\\sai rathan\\appdata\\local\\programs\\python\\python36\\lib\\site-packages\\tensorflow\\python\\client\\session.py\u001b[0m in \u001b[0;36m_call_tf_sessionrun\u001b[1;34m(self, options, feed_dict, fetch_list, target_list, run_metadata)\u001b[0m\n\u001b[0;32m   1408\u001b[0m           \u001b[0mself\u001b[0m\u001b[1;33m.\u001b[0m\u001b[0m_session\u001b[0m\u001b[1;33m,\u001b[0m \u001b[0moptions\u001b[0m\u001b[1;33m,\u001b[0m \u001b[0mfeed_dict\u001b[0m\u001b[1;33m,\u001b[0m \u001b[0mfetch_list\u001b[0m\u001b[1;33m,\u001b[0m \u001b[0mtarget_list\u001b[0m\u001b[1;33m,\u001b[0m\u001b[1;33m\u001b[0m\u001b[0m\n\u001b[1;32m-> 1409\u001b[1;33m           run_metadata)\n\u001b[0m\u001b[0;32m   1410\u001b[0m     \u001b[1;32melse\u001b[0m\u001b[1;33m:\u001b[0m\u001b[1;33m\u001b[0m\u001b[0m\n",
      "\u001b[1;31mResourceExhaustedError\u001b[0m: OOM when allocating tensor of shape [25088,4096] and type float\n\t [[Node: weights/Adam/Initializer/zeros = Const[dtype=DT_FLOAT, value=Tensor<type: float shape: [25088,4096] values: [0 0 0]...>, _device=\"/job:localhost/replica:0/task:0/device:GPU:0\"]()]]",
      "\nDuring handling of the above exception, another exception occurred:\n",
      "\u001b[1;31mResourceExhaustedError\u001b[0m                    Traceback (most recent call last)",
      "\u001b[1;32m<ipython-input-14-6af629785793>\u001b[0m in \u001b[0;36m<module>\u001b[1;34m()\u001b[0m\n\u001b[1;32m----> 1\u001b[1;33m \u001b[0msess\u001b[0m\u001b[1;33m.\u001b[0m\u001b[0mrun\u001b[0m\u001b[1;33m(\u001b[0m\u001b[0mtf\u001b[0m\u001b[1;33m.\u001b[0m\u001b[0mglobal_variables_initializer\u001b[0m\u001b[1;33m(\u001b[0m\u001b[1;33m)\u001b[0m\u001b[1;33m)\u001b[0m\u001b[1;33m\u001b[0m\u001b[0m\n\u001b[0m",
      "\u001b[1;32mc:\\users\\sai rathan\\appdata\\local\\programs\\python\\python36\\lib\\site-packages\\tensorflow\\python\\client\\session.py\u001b[0m in \u001b[0;36mrun\u001b[1;34m(self, fetches, feed_dict, options, run_metadata)\u001b[0m\n\u001b[0;32m    898\u001b[0m     \u001b[1;32mtry\u001b[0m\u001b[1;33m:\u001b[0m\u001b[1;33m\u001b[0m\u001b[0m\n\u001b[0;32m    899\u001b[0m       result = self._run(None, fetches, feed_dict, options_ptr,\n\u001b[1;32m--> 900\u001b[1;33m                          run_metadata_ptr)\n\u001b[0m\u001b[0;32m    901\u001b[0m       \u001b[1;32mif\u001b[0m \u001b[0mrun_metadata\u001b[0m\u001b[1;33m:\u001b[0m\u001b[1;33m\u001b[0m\u001b[0m\n\u001b[0;32m    902\u001b[0m         \u001b[0mproto_data\u001b[0m \u001b[1;33m=\u001b[0m \u001b[0mtf_session\u001b[0m\u001b[1;33m.\u001b[0m\u001b[0mTF_GetBuffer\u001b[0m\u001b[1;33m(\u001b[0m\u001b[0mrun_metadata_ptr\u001b[0m\u001b[1;33m)\u001b[0m\u001b[1;33m\u001b[0m\u001b[0m\n",
      "\u001b[1;32mc:\\users\\sai rathan\\appdata\\local\\programs\\python\\python36\\lib\\site-packages\\tensorflow\\python\\client\\session.py\u001b[0m in \u001b[0;36m_run\u001b[1;34m(self, handle, fetches, feed_dict, options, run_metadata)\u001b[0m\n\u001b[0;32m   1133\u001b[0m     \u001b[1;32mif\u001b[0m \u001b[0mfinal_fetches\u001b[0m \u001b[1;32mor\u001b[0m \u001b[0mfinal_targets\u001b[0m \u001b[1;32mor\u001b[0m \u001b[1;33m(\u001b[0m\u001b[0mhandle\u001b[0m \u001b[1;32mand\u001b[0m \u001b[0mfeed_dict_tensor\u001b[0m\u001b[1;33m)\u001b[0m\u001b[1;33m:\u001b[0m\u001b[1;33m\u001b[0m\u001b[0m\n\u001b[0;32m   1134\u001b[0m       results = self._do_run(handle, final_targets, final_fetches,\n\u001b[1;32m-> 1135\u001b[1;33m                              feed_dict_tensor, options, run_metadata)\n\u001b[0m\u001b[0;32m   1136\u001b[0m     \u001b[1;32melse\u001b[0m\u001b[1;33m:\u001b[0m\u001b[1;33m\u001b[0m\u001b[0m\n\u001b[0;32m   1137\u001b[0m       \u001b[0mresults\u001b[0m \u001b[1;33m=\u001b[0m \u001b[1;33m[\u001b[0m\u001b[1;33m]\u001b[0m\u001b[1;33m\u001b[0m\u001b[0m\n",
      "\u001b[1;32mc:\\users\\sai rathan\\appdata\\local\\programs\\python\\python36\\lib\\site-packages\\tensorflow\\python\\client\\session.py\u001b[0m in \u001b[0;36m_do_run\u001b[1;34m(self, handle, target_list, fetch_list, feed_dict, options, run_metadata)\u001b[0m\n\u001b[0;32m   1314\u001b[0m     \u001b[1;32mif\u001b[0m \u001b[0mhandle\u001b[0m \u001b[1;32mis\u001b[0m \u001b[1;32mNone\u001b[0m\u001b[1;33m:\u001b[0m\u001b[1;33m\u001b[0m\u001b[0m\n\u001b[0;32m   1315\u001b[0m       return self._do_call(_run_fn, feeds, fetches, targets, options,\n\u001b[1;32m-> 1316\u001b[1;33m                            run_metadata)\n\u001b[0m\u001b[0;32m   1317\u001b[0m     \u001b[1;32melse\u001b[0m\u001b[1;33m:\u001b[0m\u001b[1;33m\u001b[0m\u001b[0m\n\u001b[0;32m   1318\u001b[0m       \u001b[1;32mreturn\u001b[0m \u001b[0mself\u001b[0m\u001b[1;33m.\u001b[0m\u001b[0m_do_call\u001b[0m\u001b[1;33m(\u001b[0m\u001b[0m_prun_fn\u001b[0m\u001b[1;33m,\u001b[0m \u001b[0mhandle\u001b[0m\u001b[1;33m,\u001b[0m \u001b[0mfeeds\u001b[0m\u001b[1;33m,\u001b[0m \u001b[0mfetches\u001b[0m\u001b[1;33m)\u001b[0m\u001b[1;33m\u001b[0m\u001b[0m\n",
      "\u001b[1;32mc:\\users\\sai rathan\\appdata\\local\\programs\\python\\python36\\lib\\site-packages\\tensorflow\\python\\client\\session.py\u001b[0m in \u001b[0;36m_do_call\u001b[1;34m(self, fn, *args)\u001b[0m\n\u001b[0;32m   1333\u001b[0m         \u001b[1;32mexcept\u001b[0m \u001b[0mKeyError\u001b[0m\u001b[1;33m:\u001b[0m\u001b[1;33m\u001b[0m\u001b[0m\n\u001b[0;32m   1334\u001b[0m           \u001b[1;32mpass\u001b[0m\u001b[1;33m\u001b[0m\u001b[0m\n\u001b[1;32m-> 1335\u001b[1;33m       \u001b[1;32mraise\u001b[0m \u001b[0mtype\u001b[0m\u001b[1;33m(\u001b[0m\u001b[0me\u001b[0m\u001b[1;33m)\u001b[0m\u001b[1;33m(\u001b[0m\u001b[0mnode_def\u001b[0m\u001b[1;33m,\u001b[0m \u001b[0mop\u001b[0m\u001b[1;33m,\u001b[0m \u001b[0mmessage\u001b[0m\u001b[1;33m)\u001b[0m\u001b[1;33m\u001b[0m\u001b[0m\n\u001b[0m\u001b[0;32m   1336\u001b[0m \u001b[1;33m\u001b[0m\u001b[0m\n\u001b[0;32m   1337\u001b[0m   \u001b[1;32mdef\u001b[0m \u001b[0m_extend_graph\u001b[0m\u001b[1;33m(\u001b[0m\u001b[0mself\u001b[0m\u001b[1;33m)\u001b[0m\u001b[1;33m:\u001b[0m\u001b[1;33m\u001b[0m\u001b[0m\n",
      "\u001b[1;31mResourceExhaustedError\u001b[0m: OOM when allocating tensor of shape [25088,4096] and type float\n\t [[Node: weights/Adam/Initializer/zeros = Const[dtype=DT_FLOAT, value=Tensor<type: float shape: [25088,4096] values: [0 0 0]...>, _device=\"/job:localhost/replica:0/task:0/device:GPU:0\"]()]]\n\nCaused by op 'weights/Adam/Initializer/zeros', defined at:\n  File \"c:\\users\\sai rathan\\appdata\\local\\programs\\python\\python36\\lib\\runpy.py\", line 193, in _run_module_as_main\n    \"__main__\", mod_spec)\n  File \"c:\\users\\sai rathan\\appdata\\local\\programs\\python\\python36\\lib\\runpy.py\", line 85, in _run_code\n    exec(code, run_globals)\n  File \"c:\\users\\sai rathan\\appdata\\local\\programs\\python\\python36\\lib\\site-packages\\ipykernel_launcher.py\", line 16, in <module>\n    app.launch_new_instance()\n  File \"c:\\users\\sai rathan\\appdata\\local\\programs\\python\\python36\\lib\\site-packages\\traitlets\\config\\application.py\", line 658, in launch_instance\n    app.start()\n  File \"c:\\users\\sai rathan\\appdata\\local\\programs\\python\\python36\\lib\\site-packages\\ipykernel\\kernelapp.py\", line 486, in start\n    self.io_loop.start()\n  File \"c:\\users\\sai rathan\\appdata\\local\\programs\\python\\python36\\lib\\site-packages\\tornado\\platform\\asyncio.py\", line 127, in start\n    self.asyncio_loop.run_forever()\n  File \"c:\\users\\sai rathan\\appdata\\local\\programs\\python\\python36\\lib\\asyncio\\base_events.py\", line 422, in run_forever\n    self._run_once()\n  File \"c:\\users\\sai rathan\\appdata\\local\\programs\\python\\python36\\lib\\asyncio\\base_events.py\", line 1432, in _run_once\n    handle._run()\n  File \"c:\\users\\sai rathan\\appdata\\local\\programs\\python\\python36\\lib\\asyncio\\events.py\", line 145, in _run\n    self._callback(*self._args)\n  File \"c:\\users\\sai rathan\\appdata\\local\\programs\\python\\python36\\lib\\site-packages\\tornado\\platform\\asyncio.py\", line 117, in _handle_events\n    handler_func(fileobj, events)\n  File \"c:\\users\\sai rathan\\appdata\\local\\programs\\python\\python36\\lib\\site-packages\\tornado\\stack_context.py\", line 276, in null_wrapper\n    return fn(*args, **kwargs)\n  File \"c:\\users\\sai rathan\\appdata\\local\\programs\\python\\python36\\lib\\site-packages\\zmq\\eventloop\\zmqstream.py\", line 450, in _handle_events\n    self._handle_recv()\n  File \"c:\\users\\sai rathan\\appdata\\local\\programs\\python\\python36\\lib\\site-packages\\zmq\\eventloop\\zmqstream.py\", line 480, in _handle_recv\n    self._run_callback(callback, msg)\n  File \"c:\\users\\sai rathan\\appdata\\local\\programs\\python\\python36\\lib\\site-packages\\zmq\\eventloop\\zmqstream.py\", line 432, in _run_callback\n    callback(*args, **kwargs)\n  File \"c:\\users\\sai rathan\\appdata\\local\\programs\\python\\python36\\lib\\site-packages\\tornado\\stack_context.py\", line 276, in null_wrapper\n    return fn(*args, **kwargs)\n  File \"c:\\users\\sai rathan\\appdata\\local\\programs\\python\\python36\\lib\\site-packages\\ipykernel\\kernelbase.py\", line 283, in dispatcher\n    return self.dispatch_shell(stream, msg)\n  File \"c:\\users\\sai rathan\\appdata\\local\\programs\\python\\python36\\lib\\site-packages\\ipykernel\\kernelbase.py\", line 233, in dispatch_shell\n    handler(stream, idents, msg)\n  File \"c:\\users\\sai rathan\\appdata\\local\\programs\\python\\python36\\lib\\site-packages\\ipykernel\\kernelbase.py\", line 399, in execute_request\n    user_expressions, allow_stdin)\n  File \"c:\\users\\sai rathan\\appdata\\local\\programs\\python\\python36\\lib\\site-packages\\ipykernel\\ipkernel.py\", line 208, in do_execute\n    res = shell.run_cell(code, store_history=store_history, silent=silent)\n  File \"c:\\users\\sai rathan\\appdata\\local\\programs\\python\\python36\\lib\\site-packages\\ipykernel\\zmqshell.py\", line 537, in run_cell\n    return super(ZMQInteractiveShell, self).run_cell(*args, **kwargs)\n  File \"c:\\users\\sai rathan\\appdata\\local\\programs\\python\\python36\\lib\\site-packages\\IPython\\core\\interactiveshell.py\", line 2662, in run_cell\n    raw_cell, store_history, silent, shell_futures)\n  File \"c:\\users\\sai rathan\\appdata\\local\\programs\\python\\python36\\lib\\site-packages\\IPython\\core\\interactiveshell.py\", line 2785, in _run_cell\n    interactivity=interactivity, compiler=compiler, result=result)\n  File \"c:\\users\\sai rathan\\appdata\\local\\programs\\python\\python36\\lib\\site-packages\\IPython\\core\\interactiveshell.py\", line 2903, in run_ast_nodes\n    if self.run_code(code, result):\n  File \"c:\\users\\sai rathan\\appdata\\local\\programs\\python\\python36\\lib\\site-packages\\IPython\\core\\interactiveshell.py\", line 2963, in run_code\n    exec(code_obj, self.user_global_ns, self.user_ns)\n  File \"<ipython-input-10-91278646951c>\", line 1, in <module>\n    optimizer=tf.train.AdamOptimizer(0.001).minimize(loss)\n  File \"c:\\users\\sai rathan\\appdata\\local\\programs\\python\\python36\\lib\\site-packages\\tensorflow\\python\\training\\optimizer.py\", line 424, in minimize\n    name=name)\n  File \"c:\\users\\sai rathan\\appdata\\local\\programs\\python\\python36\\lib\\site-packages\\tensorflow\\python\\training\\optimizer.py\", line 600, in apply_gradients\n    self._create_slots(var_list)\n  File \"c:\\users\\sai rathan\\appdata\\local\\programs\\python\\python36\\lib\\site-packages\\tensorflow\\python\\training\\adam.py\", line 131, in _create_slots\n    self._zeros_slot(v, \"m\", self._name)\n  File \"c:\\users\\sai rathan\\appdata\\local\\programs\\python\\python36\\lib\\site-packages\\tensorflow\\python\\training\\optimizer.py\", line 1150, in _zeros_slot\n    new_slot_variable = slot_creator.create_zeros_slot(var, op_name)\n  File \"c:\\users\\sai rathan\\appdata\\local\\programs\\python\\python36\\lib\\site-packages\\tensorflow\\python\\training\\slot_creator.py\", line 181, in create_zeros_slot\n    colocate_with_primary=colocate_with_primary)\n  File \"c:\\users\\sai rathan\\appdata\\local\\programs\\python\\python36\\lib\\site-packages\\tensorflow\\python\\training\\slot_creator.py\", line 155, in create_slot_with_initializer\n    dtype)\n  File \"c:\\users\\sai rathan\\appdata\\local\\programs\\python\\python36\\lib\\site-packages\\tensorflow\\python\\training\\slot_creator.py\", line 65, in _create_slot_var\n    validate_shape=validate_shape)\n  File \"c:\\users\\sai rathan\\appdata\\local\\programs\\python\\python36\\lib\\site-packages\\tensorflow\\python\\ops\\variable_scope.py\", line 1317, in get_variable\n    constraint=constraint)\n  File \"c:\\users\\sai rathan\\appdata\\local\\programs\\python\\python36\\lib\\site-packages\\tensorflow\\python\\ops\\variable_scope.py\", line 1079, in get_variable\n    constraint=constraint)\n  File \"c:\\users\\sai rathan\\appdata\\local\\programs\\python\\python36\\lib\\site-packages\\tensorflow\\python\\ops\\variable_scope.py\", line 425, in get_variable\n    constraint=constraint)\n  File \"c:\\users\\sai rathan\\appdata\\local\\programs\\python\\python36\\lib\\site-packages\\tensorflow\\python\\ops\\variable_scope.py\", line 394, in _true_getter\n    use_resource=use_resource, constraint=constraint)\n  File \"c:\\users\\sai rathan\\appdata\\local\\programs\\python\\python36\\lib\\site-packages\\tensorflow\\python\\ops\\variable_scope.py\", line 786, in _get_single_variable\n    use_resource=use_resource)\n  File \"c:\\users\\sai rathan\\appdata\\local\\programs\\python\\python36\\lib\\site-packages\\tensorflow\\python\\ops\\variable_scope.py\", line 2220, in variable\n    use_resource=use_resource)\n  File \"c:\\users\\sai rathan\\appdata\\local\\programs\\python\\python36\\lib\\site-packages\\tensorflow\\python\\ops\\variable_scope.py\", line 2210, in <lambda>\n    previous_getter = lambda **kwargs: default_variable_creator(None, **kwargs)\n  File \"c:\\users\\sai rathan\\appdata\\local\\programs\\python\\python36\\lib\\site-packages\\tensorflow\\python\\ops\\variable_scope.py\", line 2193, in default_variable_creator\n    constraint=constraint)\n  File \"c:\\users\\sai rathan\\appdata\\local\\programs\\python\\python36\\lib\\site-packages\\tensorflow\\python\\ops\\variables.py\", line 235, in __init__\n    constraint=constraint)\n  File \"c:\\users\\sai rathan\\appdata\\local\\programs\\python\\python36\\lib\\site-packages\\tensorflow\\python\\ops\\variables.py\", line 343, in _init_from_args\n    initial_value(), name=\"initial_value\", dtype=dtype)\n  File \"c:\\users\\sai rathan\\appdata\\local\\programs\\python\\python36\\lib\\site-packages\\tensorflow\\python\\ops\\variable_scope.py\", line 770, in <lambda>\n    shape.as_list(), dtype=dtype, partition_info=partition_info)\n  File \"c:\\users\\sai rathan\\appdata\\local\\programs\\python\\python36\\lib\\site-packages\\tensorflow\\python\\ops\\init_ops.py\", line 99, in __call__\n    return array_ops.zeros(shape, dtype)\n  File \"c:\\users\\sai rathan\\appdata\\local\\programs\\python\\python36\\lib\\site-packages\\tensorflow\\python\\ops\\array_ops.py\", line 1626, in zeros\n    output = fill(shape, constant(zero, dtype=dtype), name=name)\n  File \"c:\\users\\sai rathan\\appdata\\local\\programs\\python\\python36\\lib\\site-packages\\tensorflow\\python\\ops\\gen_array_ops.py\", line 3169, in fill\n    \"Fill\", dims=dims, value=value, name=name)\n  File \"c:\\users\\sai rathan\\appdata\\local\\programs\\python\\python36\\lib\\site-packages\\tensorflow\\python\\framework\\op_def_library.py\", line 787, in _apply_op_helper\n    op_def=op_def)\n  File \"c:\\users\\sai rathan\\appdata\\local\\programs\\python\\python36\\lib\\site-packages\\tensorflow\\python\\framework\\ops.py\", line 3392, in create_op\n    op_def=op_def)\n  File \"c:\\users\\sai rathan\\appdata\\local\\programs\\python\\python36\\lib\\site-packages\\tensorflow\\python\\framework\\ops.py\", line 1718, in __init__\n    self._traceback = self._graph._extract_stack()  # pylint: disable=protected-access\n\nResourceExhaustedError (see above for traceback): OOM when allocating tensor of shape [25088,4096] and type float\n\t [[Node: weights/Adam/Initializer/zeros = Const[dtype=DT_FLOAT, value=Tensor<type: float shape: [25088,4096] values: [0 0 0]...>, _device=\"/job:localhost/replica:0/task:0/device:GPU:0\"]()]]\n"
     ]
    }
   ],
   "source": [
    "sess.run(tf.global_variables_initializer())"
   ]
  },
  {
   "cell_type": "code",
   "execution_count": null,
   "metadata": {},
   "outputs": [],
   "source": [
    "train(optimizer,sess,loss)"
   ]
  },
  {
   "cell_type": "code",
   "execution_count": null,
   "metadata": {},
   "outputs": [],
   "source": []
  }
 ],
 "metadata": {
  "kernelspec": {
   "display_name": "Python 3",
   "language": "python",
   "name": "python3"
  },
  "language_info": {
   "codemirror_mode": {
    "name": "ipython",
    "version": 3
   },
   "file_extension": ".py",
   "mimetype": "text/x-python",
   "name": "python",
   "nbconvert_exporter": "python",
   "pygments_lexer": "ipython3",
   "version": "3.6.5"
  }
 },
 "nbformat": 4,
 "nbformat_minor": 2
}
